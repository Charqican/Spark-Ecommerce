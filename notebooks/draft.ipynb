{
 "cells": [
  {
   "cell_type": "markdown",
   "metadata": {},
   "source": [
    "# Imports"
   ]
  },
  {
   "cell_type": "code",
   "execution_count": 2,
   "metadata": {
    "collapsed": false
   },
   "outputs": [],
   "source": [
    "from pyspark.sql import SparkSession\n",
    "from pyspark.sql.functions import sum, desc, col, round, expr, count, first\n",
    "import matplotlib.pyplot as plt\n",
    "import numpy as np\n",
    "from scipy.interpolate import interp1d"
   ]
  },
  {
   "cell_type": "code",
   "execution_count": 3,
   "metadata": {},
   "outputs": [],
   "source": [
    "spark = SparkSession.builder \\\n",
    "    .appName(\"Análisis de eventos de comercio electrónico\") \\\n",
    "    .getOrCreate()"
   ]
  },
  {
   "cell_type": "code",
   "execution_count": 5,
   "metadata": {},
   "outputs": [],
   "source": [
    "#octubre\n",
    "df1 = spark.read.format(\"csv\").option(\"header\", \"true\").load(\"C:/Users/User/Desktop/data/2019-Oct.csv\")\n",
    "#noviembre\n",
    "df2 = spark.read.format(\"csv\").option(\"header\", \"true\").load(\"C:/Users/User/Desktop/data/2019-Nov.csv\")\n",
    "#diciembre\n",
    "df3 = spark.read.format(\"csv\").option(\"header\", \"true\").load(\"C:/Users/User/Desktop/data/2019-Dec.csv\")\n",
    "#enero\n",
    "df4= spark.read.format(\"csv\").option(\"header\", \"true\").load(\"C:/Users/User/Desktop/data/2020-Jan.csv\")\n",
    "#febrero\n",
    "df5 = spark.read.format(\"csv\").option(\"header\", \"true\").load(\"C:/Users/User/Desktop/data/2020-Feb.csv\")\n"
   ]
  },
  {
   "cell_type": "markdown",
   "metadata": {},
   "source": [
    "# Data discovery "
   ]
  },
  {
   "cell_type": "markdown",
   "metadata": {},
   "source": [
    "## Monthly and Totally Data:\n",
    "\n",
    "Almost 21 million of transactions recorded in 5 months"
   ]
  },
  {
   "cell_type": "code",
   "execution_count": 6,
   "metadata": {},
   "outputs": [],
   "source": [
    "octubre= df1.count()\n",
    "noviembre= df2.count()\n",
    "diciembre= df3.count()\n",
    "enero= df4.count()\n",
    "febrero= df5.count()"
   ]
  },
  {
   "cell_type": "code",
   "execution_count": 7,
   "metadata": {},
   "outputs": [
    {
     "name": "stdout",
     "output_type": "stream",
     "text": [
      "por orden (octubre,noviembre,diciembre,enero,febrero):  4102283 4635837 3533286 4264752 4156682\n",
      "total: 20692840\n"
     ]
    }
   ],
   "source": [
    "print(\"por orden (octubre,noviembre,diciembre,enero,febrero): \",octubre,noviembre,diciembre,enero,febrero)\n",
    "print(\"total: \"+ str(octubre+noviembre+diciembre+enero+febrero))"
   ]
  },
  {
   "cell_type": "markdown",
   "metadata": {},
   "source": [
    "## Unique users per month\n",
    "January registers the greatest amount of individual users. Also we can see a little drop down in the quatity of users in november and december in comparison with october"
   ]
  },
  {
   "cell_type": "code",
   "execution_count": 8,
   "metadata": {},
   "outputs": [],
   "source": [
    "unique_users = df1.select('user_id').distinct().count()\n",
    "unique_users1 = df2.select('user_id').distinct().count()\n",
    "unique_users2 = df3.select('user_id').distinct().count()\n",
    "unique_users3 = df4.select('user_id').distinct().count()\n",
    "unique_users4= df5.select('user_id').distinct().count()"
   ]
  },
  {
   "cell_type": "code",
   "execution_count": 10,
   "metadata": {},
   "outputs": [
    {
     "name": "stdout",
     "output_type": "stream",
     "text": [
      "399664 368232 370154 410073 391055\n"
     ]
    },
    {
     "data": {
      "image/png": "[encoded data removed]",
      "text/plain": [
       "<Figure size 432x288 with 1 Axes>"
      ]
     },
     "metadata": {
      "needs_background": "light"
     },
     "output_type": "display_data"
    }
   ],
   "source": [
    "print(unique_users,unique_users1,unique_users2,unique_users3, unique_users4)\n",
    "users=np.array([unique_users,unique_users1,unique_users2,unique_users3, unique_users4])\n",
    "months=np.array([\"October\", \"November\", \"December\",\"January\", \"February\"])\n",
    "\n",
    "plt.plot( months,users)\n",
    "plt.xlabel(\"Months\")\n",
    "plt.ylabel(\"Users\")\n",
    "plt.title(\"Unique users in different months\")\n",
    "plt.xticks(np.arange(len(months)), months)  # Establecer las marcas en el eje x\n",
    "plt.show()"
   ]
  },
  {
   "cell_type": "markdown",
   "metadata": {},
   "source": [
    "## Average activity for users:\n",
    "We can see that the average activity changes in November and December, Why does that happen?"
   ]
  },
  {
   "cell_type": "code",
   "execution_count": 11,
   "metadata": {},
   "outputs": [
    {
     "name": "stdout",
     "output_type": "stream",
     "text": [
      "10.264329536810921 12.589446327315388 9.545448651101974 10.399982442150543 10.629405070897956\n"
     ]
    }
   ],
   "source": [
    "events_octubre = octubre / unique_users\n",
    "events_nov = noviembre / unique_users1\n",
    "events_dic = diciembre / unique_users2\n",
    "events_en = enero / unique_users3\n",
    "events_feb = febrero / unique_users4\n",
    "print(events_octubre, events_nov, events_dic,events_en,events_feb)"
   ]
  },
  {
   "cell_type": "markdown",
   "metadata": {},
   "source": [
    "The average activity does not mean that those months are really the ones with the highest sales.\n",
    "This is because the activity is monitored in 3 cases (purchase, cart, remove from cart), so it can be a month with a lot of activity but it can be the month with the lowest incomes.\n",
    "\n",
    "Let´s figure which month has the greatest sales:"
   ]
  },
  {
   "cell_type": "code",
   "execution_count": 12,
   "metadata": {},
   "outputs": [
    {
     "name": "stdout",
     "output_type": "stream",
     "text": [
      "Total de sales octubre: 245624\n",
      "Total de sales nov: 322417\n",
      "Total de sales dic: 213176\n",
      "Total de sales en: 263797\n",
      "Total de sales feb: 241993\n"
     ]
    }
   ],
   "source": [
    "sales_oct = df1.filter(col('event_type') == 'purchase')\n",
    "total_sales_oct = sales_oct.count()\n",
    "\n",
    "sales_nov = df2.filter(col('event_type') == 'purchase')\n",
    "total_sales_nov = sales_nov.count()\n",
    "\n",
    "sales_dec = df3.filter(col('event_type') == 'purchase')\n",
    "total_sales_dec = sales_dec.count()\n",
    "\n",
    "sales_jan = df4.filter(col('event_type') == 'purchase')\n",
    "total_sales_jan = sales_jan.count()\n",
    "\n",
    "sales_feb = df5.filter(col('event_type') == 'purchase')\n",
    "total_sales_feb = sales_feb.count()\n",
    "# Mostrar el resultado\n",
    "print(\"Total de sales octubre:\", total_sales_oct)\n",
    "print(\"Total de sales nov:\", total_sales_nov)\n",
    "print(\"Total de sales dic:\", total_sales_dec)\n",
    "print(\"Total de sales en:\", total_sales_jan)\n",
    "print(\"Total de sales feb:\", total_sales_feb)\n"
   ]
  },
  {
   "cell_type": "markdown",
   "metadata": {},
   "source": [
    "Supricely the month with the lowest sales it´s december even when Christmas and New year are the main events that month.\n",
    "Nevertheless November records the most sales, this could be suspected but ¿why and when? ¿Does the prices lower in november? ¿it´s black friday the main event for sales in november? Let´s find out:"
   ]
  },
  {
   "cell_type": "markdown",
   "metadata": {},
   "source": [
    "### Black friday (24/11/year):\n",
    "Only 6% of the november sales are made on november 24."
   ]
  },
  {
   "cell_type": "code",
   "execution_count": 13,
   "metadata": {},
   "outputs": [
    {
     "name": "stdout",
     "output_type": "stream",
     "text": [
      "Total de compras el 24 de noviembre: 20464\n",
      "porcentaje de ventas=  6.347059863468737%\n"
     ]
    }
   ],
   "source": [
    "sales_24_nov = df2.filter((col('event_type') == 'purchase') & (col('event_time').contains('2019-11-24')))\n",
    "total_sales_24_nov = sales_24_nov.count()\n",
    "\n",
    "# Mostrar el resultado\n",
    "print(\"Total de compras el 24 de noviembre:\", total_sales_24_nov)\n",
    "print(\"porcentaje de ventas= \", str((total_sales_24_nov/322417) *100)+\"%\")"
   ]
  },
  {
   "cell_type": "markdown",
   "metadata": {},
   "source": [
    "## Prices\n",
    "There are few ways to study this variable, here we are going to do in two ways:\n",
    "One it´s to summarize the total price of items and divide it for the quantity of items per month.\n",
    "Another one its to compare the price of popular items in diferent dates wondering to expect lower prices in the month of november in comparison with december and octuber.\n"
   ]
  },
  {
   "cell_type": "markdown",
   "metadata": {},
   "source": [
    "#### Summatory / Quantity"
   ]
  },
  {
   "cell_type": "code",
   "execution_count": 14,
   "metadata": {},
   "outputs": [
    {
     "name": "stdout",
     "output_type": "stream",
     "text": [
      "Summ oct: 337514.72999999777\n",
      "quantity: 45026\n",
      "division: 7.495996313241188\n",
      "Summ nov: 569835.5400000033\n",
      "quantity: 83274\n",
      "division: 6.8428986238202\n",
      "Summ dec: 380274.4999999971\n",
      "quantity: 50870\n",
      "division: 7.475417731472324\n",
      "Summ jan: 379835.5999999979\n",
      "quantity: 48912\n",
      "division: 7.765693490349973\n",
      "Summ feb: 423588.77999999473\n",
      "quantity: 70248\n",
      "division: 6.029905193030332\n"
     ]
    }
   ],
   "source": [
    "#October\n",
    "distinct_oct = df1.select(\"product_id\", \"price\").distinct()\n",
    "summ_oct = distinct_oct.agg(sum(\"price\")).collect()[0][0]\n",
    "x=distinct_oct.count()\n",
    "print(\"Summ oct:\", summ_oct)\n",
    "print(\"quantity:\",x)\n",
    "print(\"division:\",summ_oct/x)\n",
    "\n",
    "#November\n",
    "distinct_nov = df2.select(\"product_id\", \"price\").distinct()\n",
    "summ_nov = distinct_nov.agg(sum(\"price\")).collect()[0][0]\n",
    "y=distinct_nov.count()\n",
    "print(\"Summ nov:\", summ_nov)\n",
    "print(\"quantity:\",y)\n",
    "print(\"division:\",summ_nov/y)\n",
    "\n",
    "\n",
    "#December\n",
    "distinct_dec = df3.select(\"product_id\", \"price\").distinct()\n",
    "summ_dec = distinct_dec.agg(sum(\"price\")).collect()[0][0]\n",
    "z=distinct_dec.count()\n",
    "print(\"Summ dec:\", summ_dec)\n",
    "print(\"quantity:\",z)\n",
    "print(\"division:\",summ_dec/z)\n",
    "\n",
    "\n",
    "#January\n",
    "distinct_jan = df4.select(\"product_id\", \"price\").distinct()\n",
    "summ_jan = distinct_jan.agg(sum(\"price\")).collect()[0][0]\n",
    "w=distinct_jan.count()\n",
    "print(\"Summ jan:\", summ_jan)\n",
    "print(\"quantity:\",w)\n",
    "print(\"division:\",summ_jan/w)\n",
    "\n",
    "#February\n",
    "distinct_feb = df5.select(\"product_id\", \"price\").distinct()\n",
    "summ_feb = distinct_feb.agg(sum(\"price\")).collect()[0][0]\n",
    "a=distinct_feb.count()\n",
    "print(\"Summ feb:\", summ_feb)\n",
    "print(\"quantity:\",a)\n",
    "print(\"division:\",summ_feb/a)"
   ]
  },
  {
   "cell_type": "markdown",
   "metadata": {},
   "source": [
    "November and February with this metric are the cheapest months for buying in the eCommerce, ofCourse this is not a significant metric, because it can be a lot of cheapest articles and a few really expensive, Nonetheless we coud observe that November is  the month with the hugest inventary almost doubling the inventory of the previous and the following months.\n",
    "Also it would be interesting to discover if exists differecences between prices of the same articles in the diferent moths. This is why the following section will try to respond that question\n"
   ]
  },
  {
   "cell_type": "markdown",
   "metadata": {},
   "source": [
    "#### Differences between months\n",
    "\n",
    "For this we want to compare which items are the same in the diferent months and compare de prices summing de diference between the prices. \n",
    "If de difference is possitive the prices of the previous month are higher than the other. \n",
    "\n",
    "As we were mentioned, our hypothesis was that February and November where the months with the cheapest prices, so we will compare de prices of the months and conclude."
   ]
  },
  {
   "cell_type": "markdown",
   "metadata": {},
   "source": [
    "##### October vs November"
   ]
  },
  {
   "cell_type": "code",
   "execution_count": 15,
   "metadata": {},
   "outputs": [
    {
     "name": "stdout",
     "output_type": "stream",
     "text": [
      "39358\n",
      "Total Price Difference: -11981.120000000003\n"
     ]
    }
   ],
   "source": [
    "# Calcular los n productos más populares de cada dataset\n",
    "df1_top_300 = df1.groupBy(\"product_id\").agg(count(\"*\").alias(\"count_df1\"), first(\"price\").alias(\"price_df1\")).orderBy(col(\"count_df1\").desc())\n",
    "df2_top_300 = df2.groupBy(\"product_id\").agg(count(\"*\").alias(\"count_df2\"), first(\"price\").alias(\"price_df2\")).orderBy(col(\"count_df2\").desc())\n",
    "\n",
    "df1_top_300 = df1_top_300.withColumnRenamed(\"price\", \"price_df1\")\n",
    "df2_top_300 = df2_top_300.withColumnRenamed(\"price\", \"price_df2\")\n",
    "df1_top_300 = df1_top_300.withColumnRenamed(\"product_id\", \"product_id_df1\")\n",
    "df2_top_300 = df2_top_300.withColumnRenamed(\"product_id\", \"product_id_df2\")\n",
    "df1_top_300 = df1_top_300.withColumnRenamed(\"count\", \"count_df1\")\n",
    "df2_top_300 = df2_top_300.withColumnRenamed(\"count\", \"count_df2\")\n",
    "\n",
    "\n",
    "\n",
    "# # Encontrar los productos con el mismo ID en ambos datasets\n",
    "common_products = df1_top_300.join(df2_top_300, df1_top_300[\"product_id_df1\"] == df2_top_300[\"product_id_df2\"])\n",
    "# # Renombrar columnas si es necesario\n",
    "print(common_products.count())\n",
    "# # Calcular la diferencia de precios y la suma de las diferencias\n",
    "common_products_with_diff = common_products.withColumn(\"price_diff\", col(\"price_df1\") - col(\"price_df2\"))\n",
    "total_price_diff = common_products_with_diff.agg({\"price_diff\": \"sum\"}).collect()[0][0]\n",
    "\n",
    "# # Mostrar la suma de las diferencias de precios\n",
    "print(\"Total Price Difference:\", total_price_diff)\n"
   ]
  },
  {
   "cell_type": "markdown",
   "metadata": {},
   "source": [
    "##### November vs December"
   ]
  },
  {
   "cell_type": "code",
   "execution_count": 16,
   "metadata": {},
   "outputs": [
    {
     "name": "stdout",
     "output_type": "stream",
     "text": [
      "40346\n",
      "Total Price Difference: -8637.64\n"
     ]
    }
   ],
   "source": [
    "# Calcular los n productos más populares de cada dataset\n",
    "df1_top_300 = df2.groupBy(\"product_id\").agg(count(\"*\").alias(\"count_df1\"), first(\"price\").alias(\"price_df1\")).orderBy(col(\"count_df1\").desc())\n",
    "df2_top_300 = df3.groupBy(\"product_id\").agg(count(\"*\").alias(\"count_df2\"), first(\"price\").alias(\"price_df2\")).orderBy(col(\"count_df2\").desc())\n",
    "\n",
    "df1_top_300 = df1_top_300.withColumnRenamed(\"price\", \"price_df1\")\n",
    "df2_top_300 = df2_top_300.withColumnRenamed(\"price\", \"price_df2\")\n",
    "df1_top_300 = df1_top_300.withColumnRenamed(\"product_id\", \"product_id_df1\")\n",
    "df2_top_300 = df2_top_300.withColumnRenamed(\"product_id\", \"product_id_df2\")\n",
    "df1_top_300 = df1_top_300.withColumnRenamed(\"count\", \"count_df1\")\n",
    "df2_top_300 = df2_top_300.withColumnRenamed(\"count\", \"count_df2\")\n",
    "\n",
    "\n",
    "\n",
    "# # Encontrar los productos con el mismo ID en ambos datasets\n",
    "common_products = df1_top_300.join(df2_top_300, df1_top_300[\"product_id_df1\"] == df2_top_300[\"product_id_df2\"])\n",
    "# # Renombrar columnas si es necesario\n",
    "print(common_products.count())\n",
    "# # Calcular la diferencia de precios y la suma de las diferencias\n",
    "common_products_with_diff = common_products.withColumn(\"price_diff\", col(\"price_df1\") - col(\"price_df2\"))\n",
    "total_price_diff = common_products_with_diff.agg({\"price_diff\": \"sum\"}).collect()[0][0]\n",
    "\n",
    "# # Mostrar la suma de las diferencias de precios\n",
    "print(\"Total Price Difference:\", total_price_diff)"
   ]
  },
  {
   "cell_type": "markdown",
   "metadata": {},
   "source": [
    "##### December vs January"
   ]
  },
  {
   "cell_type": "code",
   "execution_count": 17,
   "metadata": {},
   "outputs": [
    {
     "name": "stdout",
     "output_type": "stream",
     "text": [
      "41806\n",
      "Total Price Difference: -22907.929999999993\n"
     ]
    }
   ],
   "source": [
    "# Calcular los n productos más populares de cada dataset\n",
    "df1_top_300 = df3.groupBy(\"product_id\").agg(count(\"*\").alias(\"count_df1\"), first(\"price\").alias(\"price_df1\")).orderBy(col(\"count_df1\").desc())\n",
    "df2_top_300 = df4.groupBy(\"product_id\").agg(count(\"*\").alias(\"count_df2\"), first(\"price\").alias(\"price_df2\")).orderBy(col(\"count_df2\").desc())\n",
    "\n",
    "df1_top_300 = df1_top_300.withColumnRenamed(\"price\", \"price_df1\")\n",
    "df2_top_300 = df2_top_300.withColumnRenamed(\"price\", \"price_df2\")\n",
    "df1_top_300 = df1_top_300.withColumnRenamed(\"product_id\", \"product_id_df1\")\n",
    "df2_top_300 = df2_top_300.withColumnRenamed(\"product_id\", \"product_id_df2\")\n",
    "df1_top_300 = df1_top_300.withColumnRenamed(\"count\", \"count_df1\")\n",
    "df2_top_300 = df2_top_300.withColumnRenamed(\"count\", \"count_df2\")\n",
    "\n",
    "\n",
    "\n",
    "# # Encontrar los productos con el mismo ID en ambos datasets\n",
    "common_products = df1_top_300.join(df2_top_300, df1_top_300[\"product_id_df1\"] == df2_top_300[\"product_id_df2\"])\n",
    "# # Renombrar columnas si es necesario\n",
    "# # Calcular la diferencia de precios y la suma de las diferencias\n",
    "common_products_with_diff = common_products.withColumn(\"price_diff\", col(\"price_df1\") - col(\"price_df2\"))\n",
    "print(common_products.count())\n",
    "total_price_diff = common_products_with_diff.agg({\"price_diff\": \"sum\"}).collect()[0][0]\n",
    "\n",
    "# # Mostrar la suma de las diferencias de precios\n",
    "print(\"Total Price Difference:\", total_price_diff)"
   ]
  },
  {
   "cell_type": "markdown",
   "metadata": {},
   "source": [
    "##### January vs February"
   ]
  },
  {
   "cell_type": "code",
   "execution_count": 18,
   "metadata": {},
   "outputs": [
    {
     "name": "stdout",
     "output_type": "stream",
     "text": [
      "43139\n",
      "Total Price Difference: 4640.420000000007\n"
     ]
    }
   ],
   "source": [
    "# Calcular los n productos más populares de cada dataset\n",
    "df1_top_300 = df4.groupBy(\"product_id\").agg(count(\"*\").alias(\"count_df1\"), first(\"price\").alias(\"price_df1\")).orderBy(col(\"count_df1\").desc())\n",
    "df2_top_300 = df5.groupBy(\"product_id\").agg(count(\"*\").alias(\"count_df2\"), first(\"price\").alias(\"price_df2\")).orderBy(col(\"count_df2\").desc())\n",
    "\n",
    "df1_top_300 = df1_top_300.withColumnRenamed(\"price\", \"price_df1\")\n",
    "df2_top_300 = df2_top_300.withColumnRenamed(\"price\", \"price_df2\")\n",
    "df1_top_300 = df1_top_300.withColumnRenamed(\"product_id\", \"product_id_df1\")\n",
    "df2_top_300 = df2_top_300.withColumnRenamed(\"product_id\", \"product_id_df2\")\n",
    "df1_top_300 = df1_top_300.withColumnRenamed(\"count\", \"count_df1\")\n",
    "df2_top_300 = df2_top_300.withColumnRenamed(\"count\", \"count_df2\")\n",
    "\n",
    "# Encontrar los productos con el mismo ID en ambos datasets\n",
    "common_products = df1_top_300.join(df2_top_300, df1_top_300[\"product_id_df1\"] == df2_top_300[\"product_id_df2\"])\n",
    "# # Renombrar columnas si es necesario\n",
    "# # Calcular la diferencia de precios y la suma de las diferencias\n",
    "common_products_with_diff = common_products.withColumn(\"price_diff\", col(\"price_df1\") - col(\"price_df2\"))\n",
    "print(common_products.count())\n",
    "total_price_diff = common_products_with_diff.agg({\"price_diff\": \"sum\"}).collect()[0][0]\n",
    "\n",
    "# # Mostrar la suma de las diferencias de precios\n",
    "print(\"Total Price Difference:\", total_price_diff)"
   ]
  },
  {
   "cell_type": "markdown",
   "metadata": {},
   "source": [
    "##### October vs December"
   ]
  },
  {
   "cell_type": "code",
   "execution_count": 60,
   "metadata": {},
   "outputs": [
    {
     "name": "stderr",
     "output_type": "stream",
     "text": [
      "                                                                                \r"
     ]
    },
    {
     "name": "stdout",
     "output_type": "stream",
     "text": [
      "38468\n"
     ]
    },
    {
     "name": "stderr",
     "output_type": "stream",
     "text": [
      "                                                                                \r"
     ]
    },
    {
     "name": "stdout",
     "output_type": "stream",
     "text": [
      "Total Price Difference: -13616.390000000025\n"
     ]
    }
   ],
   "source": [
    "# Calcular los n productos más populares de cada dataset\n",
    "df1_top_300 = df1.groupBy(\"product_id\").agg(count(\"*\").alias(\"count_df1\"), first(\"price\").alias(\"price_df1\")).orderBy(col(\"count_df1\").desc())\n",
    "df2_top_300 = df3.groupBy(\"product_id\").agg(count(\"*\").alias(\"count_df2\"), first(\"price\").alias(\"price_df2\")).orderBy(col(\"count_df2\").desc())\n",
    "\n",
    "df1_top_300 = df1_top_300.withColumnRenamed(\"price\", \"price_df1\")\n",
    "df2_top_300 = df2_top_300.withColumnRenamed(\"price\", \"price_df2\")\n",
    "df1_top_300 = df1_top_300.withColumnRenamed(\"product_id\", \"product_id_df1\")\n",
    "df2_top_300 = df2_top_300.withColumnRenamed(\"product_id\", \"product_id_df2\")\n",
    "df1_top_300 = df1_top_300.withColumnRenamed(\"count\", \"count_df1\")\n",
    "df2_top_300 = df2_top_300.withColumnRenamed(\"count\", \"count_df2\")\n",
    "\n",
    "# Encontrar los productos con el mismo ID en ambos datasets\n",
    "common_products = df1_top_300.join(df2_top_300, df1_top_300[\"product_id_df1\"] == df2_top_300[\"product_id_df2\"])\n",
    "# # Renombrar columnas si es necesario\n",
    "# # Calcular la diferencia de precios y la suma de las diferencias\n",
    "common_products_with_diff = common_products.withColumn(\"price_diff\", col(\"price_df1\") - col(\"price_df2\"))\n",
    "print(common_products.count())\n",
    "total_price_diff = common_products_with_diff.agg({\"price_diff\": \"sum\"}).collect()[0][0]\n",
    "\n",
    "# # Mostrar la suma de las diferencias de precios\n",
    "print(\"Total Price Difference:\", total_price_diff)"
   ]
  },
  {
   "cell_type": "markdown",
   "metadata": {},
   "source": [
    "#### Conclution\n",
    "As observed, the behavior observed in the first data analysis approach is sustained. After conducting various comparisons between different dates, it is clear that the highest price difference is achieved when comparing with the month of January (which previously showed the highest price index), while the lowest difference is obtained when comparing with February and then November. Furthermore, it can be concluded that there are consistent increases in prices, as suspected due to supply and demand dynamics. However, such significant differences between each month were not expected.\n"
   ]
  }
 ],
 "metadata": {
  "kernelspec": {
   "display_name": "Python 3.11.0 64-bit",
   "language": "python",
   "name": "python3"
  },
  "language_info": {
   "codemirror_mode": {
    "name": "ipython",
    "version": 3
   },
   "file_extension": ".py",
   "mimetype": "text/x-python",
   "name": "python",
   "nbconvert_exporter": "python",
   "pygments_lexer": "ipython3",
   "version": "3.10.2"
  },
  "orig_nbformat": 4,
  "vscode": {
   "interpreter": {
    "hash": "aee8b7b246df8f9039afb4144a1f6fd8d2ca17a180786b69acc140d282b71a49"
   }
  }
 },
 "nbformat": 4,
 "nbformat_minor": 2
}
