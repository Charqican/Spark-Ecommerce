{
 "cells": [
  {
   "cell_type": "code",
   "execution_count": 1,
   "metadata": {
    "collapsed": true,
    "ExecuteTime": {
     "end_time": "2023-06-29T20:34:07.523914Z",
     "start_time": "2023-06-29T20:34:07.519278800Z"
    }
   },
   "outputs": [],
   "source": [
    "# event_time: timestamp when the event occurred.\n",
    "# event_type: type of event.\n",
    "# product_id: ID of the product related to the event.\n",
    "# category_id: ID of the category to which the product belongs.\n",
    "# category_code: category code of the product.\n",
    "# brand: brand of the product.\n",
    "# price: price of the product.\n",
    "# user_id: ID of the user related to the event.\n",
    "# user_session: session of the user in which the event occurred."
   ]
  },
  {
   "cell_type": "code",
   "execution_count": null,
   "outputs": [],
   "source": [
    "\"\"\"\n",
    "\n",
    "- Exploración de datos:\n",
    "\n",
    "  - Limpieza de datos nulos en el dataset\n",
    "  - Explicar los distintos datos y sus valores\n",
    "  - Estudio de las fechas (festivas, histograma de cantidad)\n",
    "  - Estudiar la distribución de precios con un grafico de caja\n",
    "  - Estudiar el evento más frecuente asociado a un precio\n",
    "\n",
    "\n",
    "\"\"\""
   ],
   "metadata": {
    "collapsed": false
   }
  },
  {
   "cell_type": "code",
   "execution_count": null,
   "outputs": [],
   "source": [
    "!pip install pyspark\n",
    "!pip install findspark\n",
    "!pip install jvm\n",
    "!pip install holidays"
   ],
   "metadata": {
    "collapsed": false
   }
  },
  {
   "cell_type": "code",
   "execution_count": 153,
   "outputs": [],
   "source": [
    "import findspark\n",
    "import os\n",
    "\n",
    "import matplotlib.pyplot as plt\n",
    "import numpy as np\n",
    "\n",
    "from pyspark.sql import SparkSession\n",
    "from pyspark.sql.functions import count, col, approx_count_distinct, when, expr"
   ],
   "metadata": {
    "collapsed": false,
    "ExecuteTime": {
     "end_time": "2023-06-30T03:47:44.682616700Z",
     "start_time": "2023-06-30T03:47:44.672329700Z"
    }
   }
  },
  {
   "cell_type": "code",
   "execution_count": 109,
   "outputs": [
    {
     "name": "stdout",
     "output_type": "stream",
     "text": [
      "root\n",
      " |-- event_time: timestamp (nullable = true)\n",
      " |-- event_type: string (nullable = true)\n",
      " |-- product_id: integer (nullable = true)\n",
      " |-- category_id: long (nullable = true)\n",
      " |-- category_code: string (nullable = true)\n",
      " |-- brand: string (nullable = true)\n",
      " |-- price: double (nullable = true)\n",
      " |-- user_id: integer (nullable = true)\n",
      " |-- user_session: string (nullable = true)\n",
      "\n"
     ]
    }
   ],
   "source": [
    "# Initializing findspark\n",
    "findspark.init()\n",
    "#findspark.find()\n",
    "\n",
    "# Establishing connection with python\n",
    "os.environ['PYSPARK_PYTHON'] = 'python'\n",
    "os.environ['PYSPARK_DRIVER_PYTHON'] = 'jupyter'\n",
    "\n",
    "# Initializing spark\n",
    "spark = SparkSession.builder.master('local[*]').config(\"spark.driver.memory\", \"15g\").appName('E-Commerce').getOrCreate()\n",
    "\n",
    "# Setting timezone as UTC\n",
    "spark.conf.set(\"spark.sql.session.timeZone\", \"UTC\")\n",
    "\n",
    "# Reading files & inferring the data types\n",
    "oct_2019 = spark.read.csv(\"../input/2019-Oct.csv\", header=True, inferSchema=True)\n",
    "nov_2019 = spark.read.csv(\"../input/2019-Nov.csv\", header=True, inferSchema=True)\n",
    "dec_2019 = spark.read.csv(\"../input/2019-Dec.csv\", header=True, inferSchema=True)\n",
    "jan_2020 = spark.read.csv(\"../input/2020-Jan.csv\", header=True, inferSchema=True)\n",
    "feb_2020 = spark.read.csv(\"../input/2020-Feb.csv\", header=True, inferSchema=True)\n",
    "\n",
    "# Merging dataframes into a single one\n",
    "raw_data = oct_2019.union(nov_2019).union(dec_2019).union(jan_2020).union(feb_2020)\n",
    "\n",
    "# Showing data types inferred\n",
    "raw_data.printSchema()"
   ],
   "metadata": {
    "collapsed": false,
    "ExecuteTime": {
     "end_time": "2023-06-30T02:59:03.990368200Z",
     "start_time": "2023-06-30T02:58:54.299433200Z"
    }
   }
  },
  {
   "cell_type": "code",
   "execution_count": 110,
   "outputs": [
    {
     "name": "stdout",
     "output_type": "stream",
     "text": [
      "+-------------------+----------------+----------+-------------------+-------------+--------+-----+---------+--------------------+\n",
      "|         event_time|      event_type|product_id|        category_id|category_code|   brand|price|  user_id|        user_session|\n",
      "+-------------------+----------------+----------+-------------------+-------------+--------+-----+---------+--------------------+\n",
      "|2019-10-01 00:00:00|            cart|   5773203|1487580005134238553|         null|  runail| 2.62|463240011|26dd6e6e-4dac-477...|\n",
      "|2019-10-01 00:00:03|            cart|   5773353|1487580005134238553|         null|  runail| 2.62|463240011|26dd6e6e-4dac-477...|\n",
      "|2019-10-01 00:00:07|            cart|   5881589|2151191071051219817|         null|  lovely|13.48|429681830|49e8d843-adf3-428...|\n",
      "|2019-10-01 00:00:07|            cart|   5723490|1487580005134238553|         null|  runail| 2.62|463240011|26dd6e6e-4dac-477...|\n",
      "|2019-10-01 00:00:15|            cart|   5881449|1487580013522845895|         null|  lovely| 0.56|429681830|49e8d843-adf3-428...|\n",
      "|2019-10-01 00:00:16|            cart|   5857269|1487580005134238553|         null|  runail| 2.62|430174032|73dea1e7-664e-43f...|\n",
      "|2019-10-01 00:00:19|            cart|   5739055|1487580008246412266|         null|  kapous| 4.75|377667011|81326ac6-daa4-4f0...|\n",
      "|2019-10-01 00:00:24|            cart|   5825598|1487580009445982239|         null|    null| 0.56|467916806|2f5b5546-b8cb-9ee...|\n",
      "|2019-10-01 00:00:25|            cart|   5698989|1487580006317032337|         null|    null| 1.27|385985999|d30965e8-1101-44a...|\n",
      "|2019-10-01 00:00:26|            view|   5875317|2029082628195353599|         null|    null| 1.59|474232307|445f2b74-5e4c-427...|\n",
      "|2019-10-01 00:00:28|            view|   5692917|1487580004857414477|         null| lianail| 5.54|555446068|4257671a-efc8-4e5...|\n",
      "|2019-10-01 00:00:28|remove_from_cart|   5834172|1487580013522845895|         null|  runail| 0.95|429681830|49e8d843-adf3-428...|\n",
      "|2019-10-01 00:00:30|remove_from_cart|   5809103|1487580013522845895|         null|   irisk|  0.6|429681830|49e8d843-adf3-428...|\n",
      "|2019-10-01 00:00:30|remove_from_cart|   5809103|1487580013522845895|         null|   irisk|  0.6|429681830|49e8d843-adf3-428...|\n",
      "|2019-10-01 00:00:32|remove_from_cart|   5779403|1487580013506068678|         null|    null|12.22|429681830|49e8d843-adf3-428...|\n",
      "|2019-10-01 00:00:33|remove_from_cart|   5779403|1487580013506068678|         null|    null|12.22|429681830|49e8d843-adf3-428...|\n",
      "|2019-10-01 00:00:34|            cart|   5670337|1752742615205281895|         null|    null| 2.38|546705258|3b5c65c0-bb1c-453...|\n",
      "|2019-10-01 00:00:42|            cart|   5836522|1487580013522845895|         null|nagaraku|  0.4|429681830|49e8d843-adf3-428...|\n",
      "|2019-10-01 00:00:43|            cart|   5836522|1487580013522845895|         null|nagaraku|  0.4|429681830|49e8d843-adf3-428...|\n",
      "|2019-10-01 00:00:48|            view|   5819638|1487580008162526182|         null|    null|21.75|546705258|3b5c65c0-bb1c-453...|\n",
      "+-------------------+----------------+----------+-------------------+-------------+--------+-----+---------+--------------------+\n",
      "only showing top 20 rows\n",
      "\n"
     ]
    }
   ],
   "source": [
    "# Showing dataset\n",
    "raw_data.show()"
   ],
   "metadata": {
    "collapsed": false,
    "ExecuteTime": {
     "end_time": "2023-06-30T02:59:04.140511200Z",
     "start_time": "2023-06-30T02:59:03.991864200Z"
    }
   }
  },
  {
   "cell_type": "code",
   "execution_count": 115,
   "outputs": [
    {
     "data": {
      "text/plain": "20692840"
     },
     "execution_count": 115,
     "metadata": {},
     "output_type": "execute_result"
    }
   ],
   "source": [
    "# Counting rows\n",
    "raw_data.count()"
   ],
   "metadata": {
    "collapsed": false,
    "ExecuteTime": {
     "end_time": "2023-06-30T03:01:49.953272900Z",
     "start_time": "2023-06-30T03:01:46.306466700Z"
    }
   }
  },
  {
   "cell_type": "code",
   "execution_count": 114,
   "outputs": [
    {
     "name": "stdout",
     "output_type": "stream",
     "text": [
      "+-------------------+----------+----------+-------------------+-------------+-----+-----+---------+--------------------+\n",
      "|         event_time|event_type|product_id|        category_id|category_code|brand|price|  user_id|        user_session|\n",
      "+-------------------+----------+----------+-------------------+-------------+-----+-----+---------+--------------------+\n",
      "|2019-10-01 02:05:17|      view|   5892084|1597770225539875791|         null| null|  0.0|555458569|c048be2f-547d-4ad...|\n",
      "|2019-10-01 02:15:41|      view|   5892052|1487580010377117763|         null| null|  0.0|555455025|320f6021-30ac-4a5...|\n",
      "|2019-10-01 04:25:00|      view|   5873432|2007399943458784057|apparel.glove| null|  0.0|500054739|701220b4-45b4-402...|\n",
      "|2019-10-01 04:33:15|      view|   5882605|1487580013522845895|         null| null|  0.0|523154930|caaf1f68-7b97-4d2...|\n",
      "|2019-10-01 05:16:30|      view|   5889621|1487580010561667147|         null| null|  0.0|523988665|00849bd2-fcd2-4cb...|\n",
      "|2019-10-01 05:18:03|      view|   5889622|1487580010561667147|         null| null|  0.0|523988665|80cfe614-f0a5-410...|\n",
      "|2019-10-01 05:18:46|      view|   5889623|1487580010561667147|         null| null|  0.0|523988665|c2cd0464-3d2b-48e...|\n",
      "|2019-10-01 05:24:38|      view|   5873431|2007399943458784057|apparel.glove| null|  0.0|542778344|7c4f6972-ead8-46f...|\n",
      "|2019-10-01 05:38:01|      view|   5889627|1487580010561667147|         null| null|  0.0|523988665|8b2bf9d8-43f0-43b...|\n",
      "|2019-10-01 05:38:32|      view|   5889628|1487580010561667147|         null| null|  0.0|523988665|b7087089-41f5-48b...|\n",
      "|2019-10-01 05:38:58|      view|   5889629|1487580010561667147|         null| null|  0.0|523988665|8d9aa6ed-53ca-4dc...|\n",
      "|2019-10-01 05:39:14|      view|   5889629|1487580010561667147|         null| null|  0.0|523988665|083ffacd-194b-48d...|\n",
      "|2019-10-01 05:40:40|      view|   5889631|1487580010561667147|         null| null|  0.0|523988665|cc622d89-5915-482...|\n",
      "|2019-10-01 05:40:54|      view|   5892179|1487580013950664926|         null| null|  0.0|465338762|36a90d24-5901-442...|\n",
      "|2019-10-01 05:41:09|      cart|   5892179|1487580013950664926|         null| null|  0.0|465338762|36a90d24-5901-442...|\n",
      "|2019-10-01 05:41:12|      view|   5889632|1487580010561667147|         null| null|  0.0|523988665|eaf696df-6b61-488...|\n",
      "|2019-10-01 05:41:46|      view|   5889633|1487580010561667147|         null| null|  0.0|523988665|910973e4-efbf-46e...|\n",
      "|2019-10-01 05:42:15|      view|   5889634|1487580010561667147|         null| null|  0.0|523988665|a4253c8e-270d-4dd...|\n",
      "|2019-10-01 05:43:15|      view|   5892179|1487580013950664926|         null| null|  0.0|434540110|21d6b1ae-17b4-47a...|\n",
      "|2019-10-01 06:03:05|      view|   5892050|1487580010377117763|         null| null|  0.0|523988665|ee443ec2-e63e-453...|\n",
      "+-------------------+----------+----------+-------------------+-------------+-----+-----+---------+--------------------+\n",
      "only showing top 20 rows\n",
      "\n",
      "Number of non-positive prices: 104288 \n",
      "\n"
     ]
    }
   ],
   "source": [
    "# Filtering records to drop non-positive prices\n",
    "non_positive = raw_data.filter(col(\"price\") <= 0)\n",
    "df = raw_data.filter(col(\"price\") > 0)\n",
    "\n",
    "# Counting non-positive prices\n",
    "count_non_positives = non_positive.count()\n",
    "\n",
    "# Showing non-positive prices\n",
    "non_positive.show()\n",
    "\n",
    "# Printing the count of negative prices\n",
    "print(\"Number of non-positive prices:\", count_non_positives, \"\\n\")"
   ],
   "metadata": {
    "collapsed": false,
    "ExecuteTime": {
     "end_time": "2023-06-30T03:00:46.635558Z",
     "start_time": "2023-06-30T03:00:42.991048100Z"
    }
   }
  },
  {
   "cell_type": "code",
   "execution_count": 112,
   "outputs": [
    {
     "name": "stdout",
     "output_type": "stream",
     "text": [
      "+----------+----------+----------+-----------+-------------+-------+-----+-------+------------+\n",
      "|event_time|event_type|product_id|category_id|category_code|  brand|price|user_id|user_session|\n",
      "+----------+----------+----------+-----------+-------------+-------+-----+-------+------------+\n",
      "|         0|         0|         0|          0|     20236422|8652850|    0|      0|        4597|\n",
      "+----------+----------+----------+-----------+-------------+-------+-----+-------+------------+\n",
      "\n"
     ]
    }
   ],
   "source": [
    "# Counting null values per column\n",
    "null_counts = df.select([count(when(col(column).isNull(), column)).alias(column) for column in df.columns])\n",
    "\n",
    "# Showing dataframe\n",
    "null_counts.show()"
   ],
   "metadata": {
    "collapsed": false,
    "ExecuteTime": {
     "end_time": "2023-06-30T02:59:55.482065100Z",
     "start_time": "2023-06-30T02:59:45.560429700Z"
    }
   }
  },
  {
   "cell_type": "code",
   "execution_count": 113,
   "outputs": [
    {
     "name": "stdout",
     "output_type": "stream",
     "text": [
      "+----------+----------+----------+-----------+-------------+-----+-----+-------+------------+\n",
      "|event_time|event_type|product_id|category_id|category_code|brand|price|user_id|user_session|\n",
      "+----------+----------+----------+-----------+-------------+-----+-----+-------+------------+\n",
      "|   9454101|         4|     53324|        500|           12|  293| 2747|1629062|     4817636|\n",
      "+----------+----------+----------+-----------+-------------+-----+-----+-------+------------+\n",
      "\n"
     ]
    }
   ],
   "source": [
    "# Counting unique values per column\n",
    "unique_counts = df.select([approx_count_distinct(col(column)).alias(column) for column in df.columns])\n",
    "\n",
    "# Showing dataframe\n",
    "unique_counts.show()"
   ],
   "metadata": {
    "collapsed": false,
    "ExecuteTime": {
     "end_time": "2023-06-30T03:00:06.778789900Z",
     "start_time": "2023-06-30T02:59:55.483064900Z"
    }
   }
  },
  {
   "cell_type": "code",
   "execution_count": 116,
   "outputs": [
    {
     "data": {
      "text/plain": "dict_keys(['event_time', 'event_type', 'brand', 'price'])"
     },
     "execution_count": 116,
     "metadata": {},
     "output_type": "execute_result"
    }
   ],
   "source": [
    "# Defining auxiliar function for counting unique values\n",
    "unique_count_rows = lambda dataframe, column_name: dataframe.groupBy(column_name).agg(count(\"*\").alias(\"count\"))\n",
    "\n",
    "# Selecting columns to apply unique count function\n",
    "column_names = [\"event_time\", \"event_type\", \"brand\", \"price\"]\n",
    "\n",
    "\"Applying function to every column in column names\"\n",
    "\n",
    "# Initializing dictionary for counting values\n",
    "value_counts_by_column = {}\n",
    "\n",
    "for column in column_names:\n",
    "\n",
    "    # Counting unique rows per each column\n",
    "    unique_counts = unique_count_rows(df, column)\n",
    "\n",
    "    # Converting to a list of tuples\n",
    "    unique_counts_list = [(row[column], row[\"count\"]) for row in unique_counts.collect()]\n",
    "\n",
    "    # Adding the result to the dictionary\n",
    "    value_counts_by_column[column] = unique_counts_list\n",
    "\n",
    "# Printing keys for accessing the counts\n",
    "value_counts_by_column.keys()"
   ],
   "metadata": {
    "collapsed": false,
    "ExecuteTime": {
     "end_time": "2023-06-30T03:06:56.092742500Z",
     "start_time": "2023-06-30T03:03:53.404639300Z"
    }
   }
  },
  {
   "cell_type": "code",
   "execution_count": 117,
   "outputs": [
    {
     "data": {
      "text/plain": "[('purchase', 1286880),\n ('view', 9627329),\n ('cart', 5718963),\n ('remove_from_cart', 3955380)]"
     },
     "execution_count": 117,
     "metadata": {},
     "output_type": "execute_result"
    }
   ],
   "source": [
    "# Extracting counts for each event types\n",
    "value_counts_by_column[\"event_type\"]"
   ],
   "metadata": {
    "collapsed": false,
    "ExecuteTime": {
     "end_time": "2023-06-30T03:06:59.807342700Z",
     "start_time": "2023-06-30T03:06:59.793546Z"
    }
   }
  },
  {
   "cell_type": "code",
   "execution_count": 138,
   "outputs": [
    {
     "data": {
      "text/plain": "<Figure size 640x480 with 1 Axes>",
      "image/png": "[encoded data removed]"
     },
     "metadata": {},
     "output_type": "display_data"
    }
   ],
   "source": [
    "# Extracting prices and counts for each product\n",
    "price, count = zip(*value_counts_by_column[\"price\"])\n",
    "\n",
    "# Setting number how many intervals are plotted\n",
    "n_labels = 10\n",
    "intervals = np.linspace(min(price), max(price), n_labels + 1)\n",
    "\n",
    "# Initializing sum intervals for plotting\n",
    "sums_in_intervals = []\n",
    "\n",
    "for i in range(n_labels):\n",
    "    # Calculating the sum of count values within each interval\n",
    "    sum_within_interval = sum(val[1] for val in value_counts_by_column[\"price\"] if intervals[i] <= val[0] < intervals[i+1])\n",
    "    # Appending values into y-axis\n",
    "    sums_in_intervals.append(sum_within_interval)\n",
    "\n",
    "# Creating subplots\n",
    "fig, ax = plt.subplots()\n",
    "\n",
    "# Plotting prices & counts\n",
    "ax.bar(range(n_labels), sums_in_intervals)\n",
    "\n",
    "# Setting ticks for x-axis\n",
    "ax.set_xticks(range(n_labels))\n",
    "ax.set_xticklabels(['{:.2f}'.format(intervals[i+1]) for i in range(n_labels)], rotation='vertical')\n",
    "\n",
    "# Setting labels for x-axis & y-axis\n",
    "ax.set_xlabel('Intervals', labelpad=20)\n",
    "ax.set_ylabel('Sum', labelpad=20)\n",
    "\n",
    "# Setting scale for y-axis\n",
    "ax.set_yscale('log')\n",
    "\n",
    "# Setting title\n",
    "ax.set_title('Prices in Intervals (Logarithmic Y-Axis)', pad=20)\n",
    "\n",
    "# Adjusting spaces between labels and ticks in both x-axis and y-axis\n",
    "ax.tick_params(axis='x', pad=10)\n",
    "ax.tick_params(axis='y', pad=10)\n",
    "\n",
    "# Displaying the plot\n",
    "plt.show()"
   ],
   "metadata": {
    "collapsed": false,
    "ExecuteTime": {
     "end_time": "2023-06-30T03:25:48.543482300Z",
     "start_time": "2023-06-30T03:25:48.257821700Z"
    }
   }
  },
  {
   "cell_type": "code",
   "execution_count": 154,
   "outputs": [
    {
     "name": "stdout",
     "output_type": "stream",
     "text": [
      "+--------------+----------------+-------+\n",
      "|price_interval|      event_type|  count|\n",
      "+--------------+----------------+-------+\n",
      "|   Intervalo 1|            cart| 917306|\n",
      "|   Intervalo 1|            view| 574762|\n",
      "|   Intervalo 1|remove_from_cart| 446535|\n",
      "|   Intervalo 1|        purchase| 202639|\n",
      "|  Intervalo 10|            view|1574344|\n",
      "|  Intervalo 10|            cart| 262403|\n",
      "|  Intervalo 10|remove_from_cart| 166651|\n",
      "|  Intervalo 10|        purchase|  54870|\n",
      "|   Intervalo 2|            cart| 718237|\n",
      "|   Intervalo 2|            view| 713458|\n",
      "|   Intervalo 2|remove_from_cart| 502525|\n",
      "|   Intervalo 2|        purchase| 178135|\n",
      "|   Intervalo 3|            view| 730648|\n",
      "|   Intervalo 3|            cart| 653241|\n",
      "|   Intervalo 3|remove_from_cart| 479600|\n",
      "|   Intervalo 3|        purchase| 154566|\n",
      "|   Intervalo 4|            view| 820859|\n",
      "|   Intervalo 4|            cart| 577689|\n",
      "|   Intervalo 4|remove_from_cart| 450819|\n",
      "|   Intervalo 4|        purchase| 126278|\n",
      "+--------------+----------------+-------+\n",
      "only showing top 20 rows\n",
      "\n"
     ]
    }
   ],
   "source": [
    "# Calculating price intervals\n",
    "interval = (df.selectExpr(\"percentile_approx(price, 0.1)\").first()[0],\n",
    "            df.selectExpr(\"percentile_approx(price, 0.2)\").first()[0],\n",
    "            df.selectExpr(\"percentile_approx(price, 0.3)\").first()[0],\n",
    "            df.selectExpr(\"percentile_approx(price, 0.4)\").first()[0],\n",
    "            df.selectExpr(\"percentile_approx(price, 0.5)\").first()[0],\n",
    "            df.selectExpr(\"percentile_approx(price, 0.6)\").first()[0],\n",
    "            df.selectExpr(\"percentile_approx(price, 0.7)\").first()[0],\n",
    "            df.selectExpr(\"percentile_approx(price, 0.8)\").first()[0],\n",
    "            df.selectExpr(\"percentile_approx(price, 0.9)\").first()[0],\n",
    "            df.selectExpr(\"percentile_approx(price, 1)\").first()[0])\n",
    "\n",
    "# Adding a \"price_interval\" column for indicating the interval to which the price belongs\n",
    "df_with_interval = df.withColumn(\"price_interval\",\n",
    "                                 expr(\"CASE WHEN price <= {} THEN 'Intervalo 1' \" \\\n",
    "                                      \"WHEN price <= {} THEN 'Intervalo 2' \" \\\n",
    "                                      \"WHEN price <= {} THEN 'Intervalo 3' \" \\\n",
    "                                      \"WHEN price <= {} THEN 'Intervalo 4' \" \\\n",
    "                                      \"WHEN price <= {} THEN 'Intervalo 5' \" \\\n",
    "                                      \"WHEN price <= {} THEN 'Intervalo 6' \" \\\n",
    "                                      \"WHEN price <= {} THEN 'Intervalo 7' \" \\\n",
    "                                      \"WHEN price <= {} THEN 'Intervalo 8' \" \\\n",
    "                                      \"WHEN price <= {} THEN 'Intervalo 9' \" \\\n",
    "                                      \"ELSE 'Intervalo 10' END\".format(*interval)))\n",
    "\n",
    "# Calculating the most frequent events per interval\n",
    "frequent_events = df_with_interval.groupBy(\"price_interval\", \"event_type\").count().orderBy(\"price_interval\", col(\"count\").desc())\n",
    "\n",
    "# Showing results\n",
    "frequent_events.show()"
   ],
   "metadata": {
    "collapsed": false,
    "ExecuteTime": {
     "end_time": "2023-06-30T03:50:55.145327Z",
     "start_time": "2023-06-30T03:49:09.439018700Z"
    }
   }
  }
 ],
 "metadata": {
  "kernelspec": {
   "display_name": "Python 3",
   "language": "python",
   "name": "python3"
  },
  "language_info": {
   "codemirror_mode": {
    "name": "ipython",
    "version": 2
   },
   "file_extension": ".py",
   "mimetype": "text/x-python",
   "name": "python",
   "nbconvert_exporter": "python",
   "pygments_lexer": "ipython2",
   "version": "2.7.6"
  }
 },
 "nbformat": 4,
 "nbformat_minor": 0
}
