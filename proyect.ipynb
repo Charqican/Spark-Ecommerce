{
 "cells": [
  {
   "cell_type": "code",
   "execution_count": 1,
   "metadata": {},
   "outputs": [],
   "source": [
    "from pyspark.sql import SparkSession\n",
    "from pyspark.sql.functions import sum, desc, col, round"
   ]
  },
  {
   "cell_type": "code",
   "execution_count": 2,
   "metadata": {},
   "outputs": [
    {
     "name": "stderr",
     "output_type": "stream",
     "text": [
      "23/06/19 17:59:33 WARN Utils: Your hostname, MacBook-Air-de-Gonzalo.local resolves to a loopback address: 127.0.0.1; using 192.168.0.21 instead (on interface en0)\n",
      "23/06/19 17:59:33 WARN Utils: Set SPARK_LOCAL_IP if you need to bind to another address\n",
      "Setting default log level to \"WARN\".\n",
      "To adjust logging level use sc.setLogLevel(newLevel). For SparkR, use setLogLevel(newLevel).\n",
      "23/06/19 17:59:34 WARN NativeCodeLoader: Unable to load native-hadoop library for your platform... using builtin-java classes where applicable\n"
     ]
    }
   ],
   "source": [
    "spark = SparkSession.builder \\\n",
    "    .appName(\"Análisis de eventos de comercio electrónico\") \\\n",
    "    .getOrCreate()\n"
   ]
  },
  {
   "cell_type": "code",
   "execution_count": 4,
   "metadata": {},
   "outputs": [
    {
     "name": "stderr",
     "output_type": "stream",
     "text": [
      "                                                                                \r"
     ]
    }
   ],
   "source": [
    "#octubre\n",
    "df1 = spark.read.format(\"csv\").option(\"header\", \"true\").load(\"2019-Oct.csv\")\n",
    "#noviembre\n",
    "df2 = spark.read.format(\"csv\").option(\"header\", \"true\").load(\"2019-Nov.csv\")\n",
    "#diciembre\n",
    "df3 = spark.read.format(\"csv\").option(\"header\", \"true\").load(\"2019-Dec.csv\")\n",
    "#enero\n",
    "df4= spark.read.format(\"csv\").option(\"header\", \"true\").load(\"2020-Jan.csv\")\n",
    "#febrero\n",
    "df5 = spark.read.format(\"csv\").option(\"header\", \"true\").load(\"2020-Feb.csv\")\n"
   ]
  },
  {
   "cell_type": "markdown",
   "metadata": {},
   "source": [
    "# Data discovery "
   ]
  },
  {
   "cell_type": "markdown",
   "metadata": {},
   "source": [
    "## Cantidad de datos por mes y total:"
   ]
  },
  {
   "cell_type": "code",
   "execution_count": 35,
   "metadata": {},
   "outputs": [
    {
     "name": "stderr",
     "output_type": "stream",
     "text": [
      "                                                                                \r"
     ]
    }
   ],
   "source": [
    "octubre= df1.count()\n",
    "noviembre= df2.count()\n",
    "diciembre= df3.count()\n",
    "enero= df4.count()\n",
    "febrero= df5.count()"
   ]
  },
  {
   "cell_type": "code",
   "execution_count": 36,
   "metadata": {},
   "outputs": [
    {
     "name": "stdout",
     "output_type": "stream",
     "text": [
      "por orden (octubre,noviembre,diciembre,enero,febrero):  4102283 4635837 3533286 4264752 4156682\n",
      "total: 20692840\n"
     ]
    }
   ],
   "source": [
    "print(\"por orden (octubre,noviembre,diciembre,enero,febrero): \",octubre,noviembre,diciembre,enero,febrero)\n",
    "print(\"total: \"+ str(octubre+noviembre+diciembre+enero+febrero))"
   ]
  },
  {
   "cell_type": "markdown",
   "metadata": {},
   "source": [
    "## Cantidad de usuarios unicos por mes"
   ]
  },
  {
   "cell_type": "code",
   "execution_count": 37,
   "metadata": {},
   "outputs": [
    {
     "name": "stderr",
     "output_type": "stream",
     "text": [
      "                                                                                \r"
     ]
    }
   ],
   "source": [
    "unique_users = df1.select('user_id').distinct().count()\n",
    "unique_users1 = df2.select('user_id').distinct().count()\n",
    "unique_users2 = df3.select('user_id').distinct().count()\n",
    "unique_users3 = df4.select('user_id').distinct().count()\n",
    "unique_users4= df5.select('user_id').distinct().count()"
   ]
  },
  {
   "cell_type": "markdown",
   "metadata": {},
   "source": [
    "en enero es cuando se registra un mayor cantidad de usuarios, asi tambien se nota un declive de usuarios en los meses de noviembre y diciembre en comparacion con octubre."
   ]
  },
  {
   "cell_type": "code",
   "execution_count": 38,
   "metadata": {},
   "outputs": [
    {
     "name": "stdout",
     "output_type": "stream",
     "text": [
      "399664 368232 370154 410073 391055\n"
     ]
    }
   ],
   "source": [
    "print(unique_users,unique_users1,unique_users2,unique_users3, unique_users4)"
   ]
  },
  {
   "cell_type": "markdown",
   "metadata": {},
   "source": [
    "## Cantidad promedio de eventos por usuario:"
   ]
  },
  {
   "cell_type": "markdown",
   "metadata": {},
   "source": [
    "se puede observar que los meses que que cambia la media de actividades es noviembre y diciembre, por que será?"
   ]
  },
  {
   "cell_type": "code",
   "execution_count": 39,
   "metadata": {},
   "outputs": [
    {
     "name": "stdout",
     "output_type": "stream",
     "text": [
      "10.264329536810921 12.589446327315388 9.545448651101974 10.399982442150543 10.629405070897956\n"
     ]
    }
   ],
   "source": [
    "eventos_octubre = octubre / unique_users\n",
    "eventos_nov = noviembre / unique_users1\n",
    "eventos_dic = diciembre / unique_users2\n",
    "eventos_en = enero / unique_users3\n",
    "eventos_feb = febrero / unique_users4\n",
    "print(eventos_octubre, eventos_nov, eventos_dic,eventos_en,eventos_feb)"
   ]
  },
  {
   "cell_type": "markdown",
   "metadata": {},
   "source": [
    "## Productos populares"
   ]
  },
  {
   "cell_type": "code",
   "execution_count": 40,
   "metadata": {},
   "outputs": [],
   "source": [
    "popular_products = df1.groupBy('product_id').count().orderBy('count', ascending=False)\n"
   ]
  },
  {
   "cell_type": "code",
   "execution_count": 45,
   "metadata": {},
   "outputs": [
    {
     "name": "stderr",
     "output_type": "stream",
     "text": [
      "                                                                                \r"
     ]
    },
    {
     "name": "stdout",
     "output_type": "stream",
     "text": [
      "+----------+-----------+\n",
      "|product_id|total_sales|\n",
      "+----------+-----------+\n",
      "|   5877454|    11117.0|\n",
      "|   5560754|     8555.0|\n",
      "|   5560756|     7694.0|\n",
      "|   5856186|     7088.0|\n",
      "|   5751422|     7052.0|\n",
      "|   5846437|     6288.0|\n",
      "|   5792800|     6109.0|\n",
      "|   5751383|     5841.0|\n",
      "|   5855507|     5782.0|\n",
      "|   5849033|     4541.0|\n",
      "|     89343|     4497.0|\n",
      "|   5861276|     3996.0|\n",
      "|   5528035|     3818.0|\n",
      "|   5892179|     3816.0|\n",
      "|   5882788|     3594.0|\n",
      "|   5795346|     3523.0|\n",
      "|   5692527|     3451.0|\n",
      "|   5804820|     3420.0|\n",
      "|   5866964|     3406.0|\n",
      "|   5560758|     3371.0|\n",
      "+----------+-----------+\n",
      "only showing top 20 rows\n",
      "\n"
     ]
    },
    {
     "name": "stderr",
     "output_type": "stream",
     "text": [
      "                                                                                \r"
     ]
    },
    {
     "name": "stdout",
     "output_type": "stream",
     "text": [
      "+----------+-----+\n",
      "|product_id|count|\n",
      "+----------+-----+\n",
      "|   5700037| 4998|\n",
      "|   5802432| 4693|\n",
      "|   5686925| 4356|\n",
      "|   5854897| 3966|\n",
      "|   5700046| 2897|\n",
      "|   5815662| 2830|\n",
      "|   5688124| 2745|\n",
      "|   5836522| 2470|\n",
      "|   5751422| 2251|\n",
      "|   5751383| 2068|\n",
      "|   5792800| 1965|\n",
      "|      5304| 1959|\n",
      "|   5700035| 1890|\n",
      "|   5849033| 1652|\n",
      "|   5809911| 1597|\n",
      "|   5843836| 1584|\n",
      "|   5809912| 1580|\n",
      "|      5581| 1454|\n",
      "|   5528035| 1438|\n",
      "|   5565820| 1396|\n",
      "+----------+-----+\n",
      "only showing top 20 rows\n",
      "\n"
     ]
    },
    {
     "name": "stderr",
     "output_type": "stream",
     "text": [
      "[Stage 258:==============>                                          (1 + 3) / 4]\r"
     ]
    },
    {
     "name": "stdout",
     "output_type": "stream",
     "text": [
      "+----------+-----+\n",
      "|product_id|count|\n",
      "+----------+-----+\n",
      "|   5700037| 1412|\n",
      "|   5751422| 1219|\n",
      "|   5686925| 1191|\n",
      "|   5854897| 1175|\n",
      "|   5751383| 1158|\n",
      "|   5802432| 1156|\n",
      "|   5815662| 1077|\n",
      "|   5809912| 1060|\n",
      "|   5792800| 1054|\n",
      "|   5809911|  950|\n",
      "|   5773361|  801|\n",
      "|   5773605|  773|\n",
      "|   5819112|  768|\n",
      "|   5820746|  739|\n",
      "|      5304|  732|\n",
      "|   5528035|  726|\n",
      "|   5849033|  718|\n",
      "|   5816170|  711|\n",
      "|      5013|  673|\n",
      "|   5833334|  649|\n",
      "+----------+-----+\n",
      "only showing top 20 rows\n",
      "\n"
     ]
    },
    {
     "name": "stderr",
     "output_type": "stream",
     "text": [
      "                                                                                \r"
     ]
    }
   ],
   "source": [
    "\n",
    "# Calcular la cantidad de ventas por producto\n",
    "sales_stats = df1.filter(df1.event_type == 'purchase') \\\n",
    "                .groupBy('product_id') \\\n",
    "                .agg(round(sum(col('price'))).alias('total_sales')) \\\n",
    "                .orderBy(desc('total_sales'))\n",
    "\n",
    "# Calcular la cantidad de veces que se agregaron al carrito por producto\n",
    "add_to_cart_stats = df1.filter(df1.event_type == 'cart') \\\n",
    "                      .groupBy('product_id') \\\n",
    "                      .count() \\\n",
    "                      .orderBy(desc('count'))\n",
    "\n",
    "# Calcular la cantidad de veces que se sacaron del carrito por producto\n",
    "remove_from_cart_stats = df1.filter(df1.event_type == 'remove_from_cart') \\\n",
    "                           .groupBy('product_id') \\\n",
    "                           .count() \\\n",
    "                           .orderBy(desc('count'))\n",
    "\n",
    "# Mostrar las estadísticas de ventas\n",
    "sales_stats.show()\n",
    "\n",
    "# Mostrar las estadísticas de agregados al carrito\n",
    "add_to_cart_stats.show()\n",
    "\n",
    "# Mostrar las estadísticas de sacados del carrito\n",
    "remove_from_cart_stats.show()\n",
    "\n",
    "\n",
    "\n"
   ]
  },
  {
   "cell_type": "markdown",
   "metadata": {},
   "source": [
    "La gente compra mas productos en noviembre que en diciembre, se tiene a hipotesis que existe anticipacion de la navidad, sumado a ello el black friday es el 24 de noviembre. así que veremos si la mayoria de las ventas de noviembre se llevan a cabo en ese periodo de tiempo "
   ]
  },
  {
   "cell_type": "code",
   "execution_count": 47,
   "metadata": {},
   "outputs": [
    {
     "name": "stderr",
     "output_type": "stream",
     "text": [
      "[Stage 276:==============>                                          (1 + 3) / 4]\r"
     ]
    },
    {
     "name": "stdout",
     "output_type": "stream",
     "text": [
      "Total de compras octubre: 245624\n",
      "Total de compras nov: 322417\n",
      "Total de compras dic: 213176\n",
      "Total de compras en: 263797\n",
      "Total de compras feb: 241993\n"
     ]
    },
    {
     "name": "stderr",
     "output_type": "stream",
     "text": [
      "                                                                                \r"
     ]
    }
   ],
   "source": [
    "# Filtrar los registros de compras\n",
    "compras_oct = df1.filter(col('event_type') == 'purchase')\n",
    "total_compras_oct = compras_oct.count()\n",
    "\n",
    "compras_nov = df2.filter(col('event_type') == 'purchase')\n",
    "total_compras_nov = compras_nov.count()\n",
    "\n",
    "compras_dic = df3.filter(col('event_type') == 'purchase')\n",
    "total_compras_dic = compras_dic.count()\n",
    "\n",
    "compras_en = df4.filter(col('event_type') == 'purchase')\n",
    "total_compras_en = compras_en.count()\n",
    "\n",
    "compras_feb = df5.filter(col('event_type') == 'purchase')\n",
    "total_compras_feb = compras_feb.count()\n",
    "# Mostrar el resultado\n",
    "print(\"Total de compras octubre:\", total_compras_oct)\n",
    "print(\"Total de compras nov:\", total_compras_nov)\n",
    "print(\"Total de compras dic:\", total_compras_dic)\n",
    "print(\"Total de compras en:\", total_compras_en)\n",
    "print(\"Total de compras feb:\", total_compras_feb)\n",
    "\n",
    "\n",
    "\n",
    "\n"
   ]
  },
  {
   "cell_type": "markdown",
   "metadata": {},
   "source": [
    "### Black Friday        "
   ]
  },
  {
   "cell_type": "markdown",
   "metadata": {},
   "source": [
    "se cayó la hipotesis"
   ]
  },
  {
   "cell_type": "code",
   "execution_count": 3,
   "metadata": {},
   "outputs": [
    {
     "ename": "NameError",
     "evalue": "name 'df2' is not defined",
     "output_type": "error",
     "traceback": [
      "\u001b[0;31m---------------------------------------------------------------------------\u001b[0m",
      "\u001b[0;31mNameError\u001b[0m                                 Traceback (most recent call last)",
      "Cell \u001b[0;32mIn[3], line 2\u001b[0m\n\u001b[1;32m      1\u001b[0m \u001b[39m# Filtrar los registros de compras en la fecha del 24 de noviembre\u001b[39;00m\n\u001b[0;32m----> 2\u001b[0m compras_24_nov \u001b[39m=\u001b[39m df2\u001b[39m.\u001b[39mfilter((col(\u001b[39m'\u001b[39m\u001b[39mevent_type\u001b[39m\u001b[39m'\u001b[39m) \u001b[39m==\u001b[39m \u001b[39m'\u001b[39m\u001b[39mpurchase\u001b[39m\u001b[39m'\u001b[39m) \u001b[39m&\u001b[39m (col(\u001b[39m'\u001b[39m\u001b[39mevent_time\u001b[39m\u001b[39m'\u001b[39m)\u001b[39m.\u001b[39mcontains(\u001b[39m'\u001b[39m\u001b[39m2019-11-24\u001b[39m\u001b[39m'\u001b[39m)))\n\u001b[1;32m      3\u001b[0m total_compras_24_nov \u001b[39m=\u001b[39m compras_24_nov\u001b[39m.\u001b[39mcount()\n\u001b[1;32m      5\u001b[0m \u001b[39m# Mostrar el resultado\u001b[39;00m\n",
      "\u001b[0;31mNameError\u001b[0m: name 'df2' is not defined"
     ]
    }
   ],
   "source": [
    "\n",
    "# Filtrar los registros de compras en la fecha del 24 de noviembre\n",
    "compras_24_nov = df2.filter((col('event_type') == 'purchase') & (col('event_time').contains('2019-11-24')))\n",
    "total_compras_24_nov = compras_24_nov.count()\n",
    "\n",
    "# Mostrar el resultado\n",
    "print(\"Total de compras el 24 de noviembre:\", total_compras_24_nov)\n",
    "print(\"porcentaje de ventas= \", str((total_compras_24_nov/322417) *100)+\"%\")\n"
   ]
  },
  {
   "cell_type": "code",
   "execution_count": 59,
   "metadata": {},
   "outputs": [
    {
     "name": "stderr",
     "output_type": "stream",
     "text": [
      "[Stage 318:=============================================>           (4 + 1) / 5]\r"
     ]
    },
    {
     "name": "stdout",
     "output_type": "stream",
     "text": [
      "Fecha con mayor cantidad de ventas: 2019-11-18 01:17:08 UTC\n"
     ]
    },
    {
     "name": "stderr",
     "output_type": "stream",
     "text": [
      "                                                                                \r"
     ]
    }
   ],
   "source": [
    "\n",
    "# Filtrar los registros de compras\n",
    "compras = df2.filter(col('event_type') == 'purchase')\n",
    "\n",
    "# Contar la cantidad de ventas por fecha\n",
    "ventas_por_fecha = compras.groupBy('event_time').count().orderBy(col('count').desc())\n",
    "\n",
    "# Obtener la fecha con la mayor cantidad de ventas\n",
    "fecha_max_ventas = ventas_por_fecha.select('event_time').first()[0]\n",
    "\n",
    "# Mostrar el resultado\n",
    "print(\"Fecha con mayor cantidad de ventas:\", fecha_max_ventas)\n",
    "\n"
   ]
  },
  {
   "cell_type": "code",
   "execution_count": 60,
   "metadata": {},
   "outputs": [
    {
     "name": "stderr",
     "output_type": "stream",
     "text": [
      "[Stage 321:=============================================>           (4 + 1) / 5]\r"
     ]
    },
    {
     "name": "stdout",
     "output_type": "stream",
     "text": [
      "+--------------------+-----+\n",
      "|          event_time|count|\n",
      "+--------------------+-----+\n",
      "|2019-11-18 01:17:...|  279|\n",
      "|2019-11-07 12:31:...|  252|\n",
      "|2019-11-20 06:14:...|  172|\n",
      "|2019-11-28 13:54:...|  162|\n",
      "|2019-11-18 02:06:...|  149|\n",
      "|2019-11-01 02:47:...|  148|\n",
      "|2019-11-22 01:31:...|  145|\n",
      "|2019-11-02 03:03:...|  138|\n",
      "|2019-11-08 11:32:...|  133|\n",
      "|2019-11-22 06:58:...|  129|\n",
      "|2019-11-01 15:46:...|  116|\n",
      "|2019-11-07 16:01:...|  116|\n",
      "|2019-11-24 21:58:...|  116|\n",
      "|2019-11-29 19:52:...|  113|\n",
      "|2019-11-18 07:24:...|  112|\n",
      "|2019-11-05 16:48:...|  110|\n",
      "|2019-11-28 18:53:...|  109|\n",
      "|2019-11-02 13:18:...|  108|\n",
      "|2019-11-14 00:37:...|  108|\n",
      "|2019-11-12 09:40:...|  103|\n",
      "+--------------------+-----+\n",
      "only showing top 20 rows\n",
      "\n"
     ]
    },
    {
     "name": "stderr",
     "output_type": "stream",
     "text": [
      "                                                                                \r"
     ]
    }
   ],
   "source": [
    "ventas_por_fecha.show()"
   ]
  }
 ],
 "metadata": {
  "kernelspec": {
   "display_name": "Python 3.11.0 64-bit",
   "language": "python",
   "name": "python3"
  },
  "language_info": {
   "codemirror_mode": {
    "name": "ipython",
    "version": 3
   },
   "file_extension": ".py",
   "mimetype": "text/x-python",
   "name": "python",
   "nbconvert_exporter": "python",
   "pygments_lexer": "ipython3",
   "version": "3.11.0"
  },
  "orig_nbformat": 4,
  "vscode": {
   "interpreter": {
    "hash": "aee8b7b246df8f9039afb4144a1f6fd8d2ca17a180786b69acc140d282b71a49"
   }
  }
 },
 "nbformat": 4,
 "nbformat_minor": 2
}
